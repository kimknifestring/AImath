{
 "cells": [
  {
   "cell_type": "markdown",
   "id": "f0c28319",
   "metadata": {},
   "source": [
    "# 리스트에서 한 요소를 뽑을 때 O(1)시간 안에 접근하는 법"
   ]
  },
  {
   "cell_type": "markdown",
   "id": "5cf8009b",
   "metadata": {},
   "source": [
    "해시를 쓴다"
   ]
  },
  {
   "cell_type": "markdown",
   "id": "77cb8f45",
   "metadata": {},
   "source": [
    "# 어 근데 그러면 리스트 배열이 너무 커지지 않나?"
   ]
  },
  {
   "cell_type": "markdown",
   "id": "5d3827e3",
   "metadata": {},
   "source": [
    "해시테이블에 넣어서 값이 123이 떴는데 사용 가능한 리스트는 100까지야, 그러면 123%100\n",
    "\n",
    "A%N을 해준 위치에 넣어주면 된다"
   ]
  },
  {
   "cell_type": "markdown",
   "id": "c52e037a",
   "metadata": {},
   "source": [
    "어 근데 그럼 23과 겹칠 수 있지 않나?"
   ]
  },
  {
   "cell_type": "markdown",
   "id": "10f15dd1",
   "metadata": {},
   "source": [
    "N=100일 때\n",
    "A=123이고 23이 이미 있으면 안되잖아"
   ]
  },
  {
   "cell_type": "markdown",
   "id": "f3ce4e3b",
   "metadata": {},
   "source": [
    "그리고 또 해시 함수에서 a=123 b=123이면 또 자연적으로 겹치네?"
   ]
  },
  {
   "cell_type": "markdown",
   "id": "3158247e",
   "metadata": {},
   "source": [
    "# 아! 해시값이 같은애들이 나오면 찾을 수 없겠구나!"
   ]
  },
  {
   "cell_type": "markdown",
   "id": "dfab7991",
   "metadata": {},
   "source": [
    "해시 충돌을 해결하는 법!"
   ]
  },
  {
   "cell_type": "markdown",
   "id": "c572c7cd",
   "metadata": {},
   "source": [
    "김 7\n",
    "\n",
    "이 3\n",
    "\n",
    "박 5\n",
    "\n",
    "최 7\n",
    "\n",
    "라고 하면\n",
    "\n",
    "최랑 김이 겹친다"
   ]
  },
  {
   "cell_type": "markdown",
   "id": "7eed5dc7",
   "metadata": {},
   "source": [
    "# 이 경우 연결리스트를 사용한다(체이닝 방법)"
   ]
  },
  {
   "cell_type": "code",
   "execution_count": null,
   "id": "f273d581",
   "metadata": {},
   "outputs": [],
   "source": [
    "[0,3,0,5,0,7,0,0]#.... 라고 할 때\n",
    "          #ㅣ=>[7]\n",
    "#체이닝 방법"
   ]
  },
  {
   "cell_type": "markdown",
   "id": "fac217c5",
   "metadata": {},
   "source": [
    "체인이 끝없이 이어진다면 결국에 O(N) 확률이 0에 근접하기 때문에 해시 알고리즘의 시간복잡도를 O(1)으로 표기한다"
   ]
  },
  {
   "cell_type": "markdown",
   "id": "b87a0585",
   "metadata": {},
   "source": [
    "# 오픈 어드레싱"
   ]
  },
  {
   "cell_type": "markdown",
   "id": "8a4c58ef",
   "metadata": {},
   "source": [
    "김 7\n",
    "\n",
    "이 5\n",
    "\n",
    "박 3\n",
    "\n",
    "최 8\n",
    "\n",
    "정 7"
   ]
  },
  {
   "cell_type": "code",
   "execution_count": null,
   "id": "f683e71a",
   "metadata": {},
   "outputs": [],
   "source": [
    "[0,0,3,0,5,0,7,8]\n",
    "#7을 넣는데 이미 있네? 그 옆으로, 어 8이 있네? 그 옆으로 ...."
   ]
  },
  {
   "cell_type": "markdown",
   "id": "4e17b130",
   "metadata": {},
   "source": [
    "찾을 땐 찾는 요소가 맞다면 그대로 뽑아오고 아니면서 그 뒤가 비어있지 않다면 뒤로 이동해서 비어있을 때까지 반복, 비어있지 않은 곳이 발견되면 그 곳이 결국 찾는 요소\n",
    "\n",
    "실질적 O(1)"
   ]
  },
  {
   "cell_type": "markdown",
   "id": "169c2bd3",
   "metadata": {},
   "source": [
    "# 체이닝 코드"
   ]
  },
  {
   "cell_type": "code",
   "execution_count": 9,
   "id": "93b0be65",
   "metadata": {},
   "outputs": [
    {
     "name": "stdout",
     "output_type": "stream",
     "text": [
      "0번째 요소:['시은']\n",
      "1번째 요소:None\n",
      "2번째 요소:None\n",
      "3번째 요소:['메이킷', '형우']\n",
      "4번째 요소:None\n",
      "5번째 요소:None\n",
      "6번째 요소:None\n",
      "7번째 요소:None\n",
      "8번째 요소:['우진']\n",
      "9번째 요소:None\n",
      "\n",
      "제임스은 리스트에 존재하지 않는다.\n",
      "메이킷은 리스트 3번의 0번에 존재한다.\n",
      "시은은 리스트 0번의 0번에 존재한다.\n",
      "형우은 리스트 3번의 1번에 존재한다.\n"
     ]
    }
   ],
   "source": [
    "class HashTable():\n",
    "    def __init__(self,size):\n",
    "        self.table=[None]*size\n",
    "        self.size=size\n",
    "    def hash_function(self,name):\n",
    "        # sum=0\n",
    "        # #이름의 유니코드 값을 활용한 해시 함수\n",
    "        # for i in name:\n",
    "        #     x=ord(i)\n",
    "        #     sum+=x\n",
    "        # idx=sum%self.size\n",
    "        # return idx\n",
    "\n",
    "        #해시가 겹치게 만들기(겹치는 경우가 오히려 희귀해서)\n",
    "        return sum(ord(c)*(i+1) for i,c in enumerate(name))%self.size\n",
    "    \n",
    "    def insert(self,name):\n",
    "        index=self.hash_function(name)\n",
    "        if self.table[index] is None:\n",
    "            self.table[index]=[]\n",
    "        self.table[index].append(name)\n",
    "    def display(self):\n",
    "        for i,name in enumerate(self.table):\n",
    "            print(f\"{i}번째 요소:{name}\")\n",
    "\n",
    "    def search(self,name):\n",
    "        index=self.hash_function(name)\n",
    "        if self.table[index] is None:\n",
    "            print(f'{name}은 리스트에 존재하지 않는다.')\n",
    "        else:\n",
    "            print(f'{name}은 리스트 {index}번의 {self.table[index].index(name)}번에 존재한다.')\n",
    "\n",
    "hash_table=HashTable(10)\n",
    "hash_table.insert('메이킷')\n",
    "hash_table.insert('우진')\n",
    "hash_table.insert('시은')\n",
    "hash_table.insert('형우')\n",
    "\n",
    "hash_table.display()\n",
    "print()\n",
    "for i in ['제임스','메이킷','시은','형우']:\n",
    "    hash_table.search(i)"
   ]
  },
  {
   "cell_type": "markdown",
   "id": "7e9806eb",
   "metadata": {},
   "source": [
    "# 오픈 어드레싱 코드"
   ]
  },
  {
   "cell_type": "code",
   "execution_count": 2,
   "id": "a14610a4",
   "metadata": {},
   "outputs": [
    {
     "name": "stdout",
     "output_type": "stream",
     "text": [
      "0번째 요소:시은\n",
      "1번째 요소:None\n",
      "2번째 요소:None\n",
      "3번째 요소:메이킷\n",
      "4번째 요소:형우\n",
      "5번째 요소:None\n",
      "6번째 요소:None\n",
      "7번째 요소:None\n",
      "8번째 요소:우진\n",
      "9번째 요소:None\n",
      "\n",
      "제임스 테이블에 없다.\n",
      "메이킷 3\n",
      "시은 0\n",
      "형우 4\n"
     ]
    }
   ],
   "source": [
    "class HashTable():\n",
    "    def __init__(self,size):\n",
    "        self.table=[None]*size\n",
    "        self.size=size\n",
    "    def hash_function(self,name):\n",
    "        # sum=0\n",
    "        # #이름의 유니코드 값을 활용한 해시 함수\n",
    "        # for i in name:\n",
    "        #     x=ord(i)\n",
    "        #     sum+=x\n",
    "        # idx=sum%self.size\n",
    "        # return idx\n",
    "\n",
    "        #해시가 겹치게 만들기(겹치는 경우가 오히려 희귀해서)\n",
    "        return sum(ord(c)*(i+1) for i,c in enumerate(name))%self.size\n",
    "    def insert(self,name):\n",
    "        index=self.hash_function(name)\n",
    "        original_index=index\n",
    "\n",
    "        while self.table[index] is not None:\n",
    "            #if문 쓸 필요 없이 연산자만으로 간략화해서 루프돌리기\n",
    "            index=(index+1)%self.size\n",
    "            if index==original_index:\n",
    "                raise Exception('해시 테이블이 가득참!!!')\n",
    "        self.table[index]=name\n",
    "    def search(self,name):\n",
    "        index=self.hash_function(name)\n",
    "        original_index=index\n",
    "        if self.table[index] is None:\n",
    "            print(name,'테이블에 없다.')\n",
    "        else:\n",
    "            if self.table[index]==name:\n",
    "                print(name,index)\n",
    "                return\n",
    "            else:\n",
    "                while self.table[index]!=name:\n",
    "                    index=(index+1)%self.size\n",
    "                    if index==original_index:\n",
    "                        print(name,'테이블에 없다.')\n",
    "                        return\n",
    "                print(name,index)\n",
    "                \n",
    "    def display(self):\n",
    "        for i,name in enumerate(self.table):\n",
    "            print(f\"{i}번째 요소:{name}\")\n",
    "                \n",
    "\n",
    "\n",
    "hash_table=HashTable(10)\n",
    "hash_table.insert('메이킷')\n",
    "hash_table.insert('우진')\n",
    "hash_table.insert('시은')\n",
    "hash_table.insert('형우')\n",
    "\n",
    "hash_table.display()\n",
    "print()\n",
    "for i in ['제임스','메이킷','시은','형우']:\n",
    "    hash_table.search(i)"
   ]
  },
  {
   "cell_type": "markdown",
   "id": "e2dd9c4c",
   "metadata": {},
   "source": []
  }
 ],
 "metadata": {
  "kernelspec": {
   "display_name": "Python 3",
   "language": "python",
   "name": "python3"
  },
  "language_info": {
   "codemirror_mode": {
    "name": "ipython",
    "version": 3
   },
   "file_extension": ".py",
   "mimetype": "text/x-python",
   "name": "python",
   "nbconvert_exporter": "python",
   "pygments_lexer": "ipython3",
   "version": "3.11.3"
  }
 },
 "nbformat": 4,
 "nbformat_minor": 5
}
