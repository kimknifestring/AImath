{
 "cells": [
  {
   "cell_type": "markdown",
   "id": "91c35f9c",
   "metadata": {},
   "source": [
    "# 넘파이를 이용한 고유값->고유벡터 구하기\n",
    "\n",
    "계산법은 노트"
   ]
  },
  {
   "cell_type": "code",
   "execution_count": null,
   "id": "2ec0c958",
   "metadata": {},
   "outputs": [
    {
     "name": "stdout",
     "output_type": "stream",
     "text": [
      "고유값: [5. 2.]\n",
      "고유벡터: [[ 0.70710678 -0.4472136 ]\n",
      " [ 0.70710678  0.89442719]]\n"
     ]
    }
   ],
   "source": [
    "import numpy as np\n",
    "\n",
    "a=np.array([[4,1],[2,3]])\n",
    "#넘파이.선형대수.고유\n",
    "eigenvalue,eigenvector=np.linalg.eig(a)\n",
    "print(\"고유값:\",eigenvalue)\n",
    "print(\"고유벡터:\",eigenvector)"
   ]
  },
  {
   "cell_type": "markdown",
   "id": "f7286cd9",
   "metadata": {},
   "source": [
    "# ai에서 얼굴인식을 어떻게? 를 통해 알아보는 고유값 고유벡터\n",
    "\n",
    "고유값 고유벡터를 구한다=>차원축소가 하고싶어!\n",
    "\n",
    "PCA 주성분분석을 통해서 얼굴인식"
   ]
  },
  {
   "cell_type": "code",
   "execution_count": null,
   "id": "75713f18",
   "metadata": {},
   "outputs": [
    {
     "name": "stdout",
     "output_type": "stream",
     "text": [
      "[[-5.62306418e+00 -1.72092686e+01 -7.67587330e-16]\n",
      " [-4.75414469e+01  1.00459913e+01 -6.56565028e-16]\n",
      " [ 5.31645111e+01  7.16327736e+00  4.53657997e-16]]\n",
      "신규 사람은 A3 와 유사한 사람\n"
     ]
    }
   ],
   "source": [
    "import numpy as np\n",
    "import pandas as pd\n",
    "#재구성 기법중 PCA만\n",
    "from sklearn.decomposition import PCA # 주 성분 분석 \n",
    "\n",
    "#3명의 사람이 있다 A1, A2, A3 9x1\n",
    "A1=np.array([[120,130,125],\n",
    "            [125,140,135],\n",
    "            [110,125,130]]).reshape(-1,1) #-1은 나머지 기반으로 알아서 결정하라는 뜻\n",
    "\n",
    "A2=np.array([[100,110,105],\n",
    "            [105,120,115],\n",
    "            [110,115,130]]).reshape(-1,1)\n",
    "\n",
    "A3=np.array([[140,150,145],\n",
    "            [135,135,135],\n",
    "            [125,175,130]]).reshape(-1,1)\n",
    "\n",
    "#평균 얼굴 계산 9x1\n",
    "mean_face=(A1+A2+A3)/3\n",
    "\n",
    "#사람당 특징 추출 9x1\n",
    "D1=A1-mean_face\n",
    "D2=A2-mean_face\n",
    "D3=A3-mean_face\n",
    "\n",
    "#통합\n",
    "D=np.hstack([D1,D2,D3])#9x3\n",
    "\n",
    "#공분산행렬을 구하기 9x9 9개의 픽셀의 모든 다른 각각 픽셀과의 상관관계가 담김\n",
    "C=np.cov(D)\n",
    "\n",
    "#고유값, 고유벡터를 구해서 3차원으로 축소\n",
    "#이를 PCA(주성분분석)이라고 한다.\n",
    "#사이킷런에 PCA 함수가 구현되어있음\n",
    "\n",
    "#가장 좋은 3개 찾고  svd_solver라는 방법을 쓰되 다 써서 시드는 42로\n",
    "pca=PCA(n_components=3,svd_solver='full',random_state=42)\n",
    "D_T=D.T\n",
    "\n",
    "pca.fit(D_T)\n",
    "V_reduced=pca.components_.T # 9x3 PCA로 구한 주성분 3x9를 transpose한다\n",
    "\n",
    "#새로운 축으로 투영해야함\n",
    "P_reduced=pca.transform(D_T)\n",
    "A_new=np.array([[125,155,130],\n",
    "                [120,115,120],\n",
    "                [115,150,135]]).reshape(-1,1)\n",
    "D_new=(A_new-mean_face).reshape(-1) #자동으로 1차원배열로\n",
    "\n",
    "P_new=pca.transform([D_new])[0] #새로운 얼굴특징 D_new를 PCA주성분 축에 투영하자\n",
    "\n",
    "#pca.transform입력이 2차원 배열이 디폴트임.. 첫 번째 배열 샘플만 가지고 오기 위해서 [0]\n",
    "# 유클리드 거리 놈 nom = 벡터 길이 구하는 함수\n",
    "distance=np.linalg.norm(P_reduced-P_new,axis=1) #axis=1은 각 행마다 거리 계산\n",
    "idx=np.argmin(distance)\n",
    "\n",
    "li=['A1','A2','A3']\n",
    "print(\"신규 사람은\",li[idx],\"와 유사한 사람\")\n",
    "\n"
   ]
  },
  {
   "cell_type": "markdown",
   "id": "a9567e99",
   "metadata": {},
   "source": [
    "# 만약 차원 축소를 안 한다면?"
   ]
  },
  {
   "cell_type": "code",
   "execution_count": 23,
   "id": "27daf12d",
   "metadata": {},
   "outputs": [
    {
     "name": "stdout",
     "output_type": "stream",
     "text": [
      "---  방식 1: PCA 없이 직접 비교 ---\n",
      "이미지 크기: 1920x1080 (p=2073600)\n",
      "샘플 수: 500개\n",
      "모델 준비(학습) 시간: 0.000000 초(학습을 안 하니까!)\n",
      "이미지 1개 예측 시간: 1.036800 초\n",
      "\n",
      "--- 방식 2: PCA 사용 ---\n",
      "이미지 크기: 1920x1080 (p=2073600)\n",
      "샘플 수: 500개\n",
      "축소할 차원(k): 50개\n",
      "모델 준비(학습) 시간: 5184.000000 초\n",
      "이미지 1개 예측 시간: 0.000025 초\n",
      "\n"
     ]
    }
   ],
   "source": [
    "def calculate_no_pca_time(h, w, s):\n",
    "    p = h * w\n",
    "    #기본 연산에 1 나노초가 걸리는 성능이라 가정\n",
    "    C_OP = 1e-9\n",
    "    \n",
    "    setup_time = 0\n",
    "    prediction_time_per_image = C_OP * s * p\n",
    "    \n",
    "    print(\"---  방식 1: PCA 없이 직접 비교 ---\")\n",
    "    print(f\"이미지 크기: {h}x{w} (p={p})\")\n",
    "    print(f\"샘플 수: {s}개\")\n",
    "    print(f\"모델 준비(학습) 시간: {setup_time:.6f} 초(학습을 안 하니까!)\",)\n",
    "    print(f\"이미지 1개 예측 시간: {prediction_time_per_image:.6f} 초\\n\")\n",
    "\n",
    "\n",
    "def calculate_pca_time(h, w, s, k):\n",
    "    p = h * w\n",
    "    #행렬곱과 특이값 분해 같은 무거운 연산은 10 나노초, 기본 연산은 1나노초가 걸리는 성능이라 가정\n",
    "    C_SETUP = 1e-8 \n",
    "    C_OP = 1e-9\n",
    "    \n",
    "    setup_time = C_SETUP * (s**2 * p)\n",
    "    prediction_time_per_image = C_OP * s * k\n",
    "\n",
    "    print(\"--- 방식 2: PCA 사용 ---\")\n",
    "    print(f\"이미지 크기: {h}x{w} (p={p})\")\n",
    "    print(f\"샘플 수: {s}개\")\n",
    "    print(f\"축소할 차원(k): {k}개\")\n",
    "    print(f\"모델 준비(학습) 시간: {setup_time:.6f} 초\")\n",
    "    print(f\"이미지 1개 예측 시간: {prediction_time_per_image:.6f} 초\\n\")\n",
    "\n",
    "\n",
    "H, W, S, K = 1920, 1080, 500, 50\n",
    "\n",
    "calculate_no_pca_time(h=H, w=W, s=S)\n",
    "calculate_pca_time(h=H, w=W, s=S, k=K)"
   ]
  },
  {
   "cell_type": "markdown",
   "id": "f59a5f4b",
   "metadata": {},
   "source": []
  }
 ],
 "metadata": {
  "kernelspec": {
   "display_name": "Python 3",
   "language": "python",
   "name": "python3"
  },
  "language_info": {
   "codemirror_mode": {
    "name": "ipython",
    "version": 3
   },
   "file_extension": ".py",
   "mimetype": "text/x-python",
   "name": "python",
   "nbconvert_exporter": "python",
   "pygments_lexer": "ipython3",
   "version": "3.13.5"
  }
 },
 "nbformat": 4,
 "nbformat_minor": 5
}
