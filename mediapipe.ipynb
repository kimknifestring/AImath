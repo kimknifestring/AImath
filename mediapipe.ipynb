{
 "cells": [
  {
   "cell_type": "markdown",
   "id": "a4aaf2bc",
   "metadata": {},
   "source": [
    "# OPENCV,mediapipe를 활용한 손가락 관절 인식"
   ]
  },
  {
   "cell_type": "code",
   "execution_count": null,
   "id": "7448fbee",
   "metadata": {},
   "outputs": [],
   "source": [
    "import cv2\n",
    "import mediapipe as mp\n",
    "\n",
    "cap=cv2.VideoCapture(0)\n",
    "mpHands=mp.solutions.hands\n",
    "\n",
    "hands=mpHands.Hands()\n",
    "print(hands)\n",
    "\n",
    "mpDraw=mp.solutions.drawing_utils\n",
    "\n",
    "while True:\n",
    "    success,img=cap.read()\n",
    "    #openCV는 RGB를 BGR로 저장함\n",
    "    imgRGB=cv2.cvtColor(img,cv2.COLOR_BGR2RGB)\n",
    "    results=hands.process(imgRGB)\n",
    "    print(results.multi_hand_landmarks)\n",
    "    #손가락을 인식했다면\n",
    "    if results.multi_hand_landmarks:\n",
    "        for i in results.multi_hand_landmarks:\n",
    "            mpDraw.draw_landmarks(img,i)\n",
    "    cv2.imshow('text',img)\n",
    "    #1밀리초마다 0xFF비트를 검사해서 q 눌렀으면 종료\n",
    "    if cv2.waitKey(1) & 0xFF==ord('q'):\n",
    "        break"
   ]
  },
  {
   "cell_type": "markdown",
   "id": "8353b43d",
   "metadata": {},
   "source": [
    "# 랜드마크 간 선 그리기"
   ]
  },
  {
   "cell_type": "code",
   "execution_count": null,
   "id": "8c79dd83",
   "metadata": {},
   "outputs": [],
   "source": [
    "import cv2\n",
    "import mediapipe as mp\n",
    "\n",
    "cap=cv2.VideoCapture(0)\n",
    "mpHands=mp.solutions.hands\n",
    "hands=mpHands.Hands()\n",
    "mpDraw=mp.solutions.drawing_utils\n",
    "\n",
    "while True:\n",
    "    success,img=cap.read()\n",
    "    #이미지 반전하는 함수임, 1=좌우반전, -1=상하반전\n",
    "    img=cv2.flip(img,1)\n",
    "    imgRGB=cv2.cvtColor(img,cv2.COLOR_BGR2RGB)\n",
    "    results=hands.process(imgRGB)\n",
    "    \n",
    "    if results.multi_hand_landmarks:\n",
    "        for i in results.multi_hand_landmarks:\n",
    "            mpDraw.draw_landmarks(img,i,mpHands.HAND_CONNECTIONS)\n",
    "    cv2.imshow('img',img)\n",
    "    if cv2.waitKey(1) & 0xFF==ord('q'):\n",
    "        break"
   ]
  },
  {
   "cell_type": "markdown",
   "id": "67ddb6e8",
   "metadata": {},
   "source": [
    "# 8번 관절 타게팅"
   ]
  },
  {
   "cell_type": "code",
   "execution_count": null,
   "id": "0825921a",
   "metadata": {},
   "outputs": [],
   "source": [
    "import cv2\n",
    "import mediapipe as mp\n",
    "import matplotlib.pyplot as plt\n",
    "cap=cv2.VideoCapture(0)\n",
    "my_hands=mp.solutions.hands.Hands()\n",
    "mpDraw=mp.solutions.drawing_utils\n",
    "\n",
    "while True:\n",
    "    success,img=cap.read()\n",
    "    image=cv2.resize(img,(1920,1080))\n",
    "    image=cv2.flip(image,1)\n",
    "    f_height,f_width,idx=image.shape\n",
    "    rgb_img=cv2.cvtColor(image,cv2.COLOR_BGR2RGB)\n",
    "    #손인식 결과\n",
    "    output=my_hands.process(rgb_img)\n",
    "    hands=output.multi_hand_landmarks\n",
    "    if hands:\n",
    "        for hand in hands:\n",
    "            mpDraw.draw_landmarks(image,hand)\n",
    "            landmarks=hand.landmark\n",
    "            for id, landmark in enumerate(landmarks):\n",
    "                x=int(landmark.x*f_width)\n",
    "                y=int(landmark.y*f_height)\n",
    "                if id==8:\n",
    "                    cv2.circle(img=image,center=(x,y),radius=20,color=(0,255,0),thickness=10)\n",
    "\n",
    "    # cv2.imshow('img',image)\n",
    "    plt.imshow(image)\n",
    "    plt.axis('off')\n",
    "    plt.show()\n",
    "    if cv2.waitKey(1) & 0xFF==ord('q'):\n",
    "        break\n"
   ]
  },
  {
   "cell_type": "markdown",
   "id": "e95ee1cb",
   "metadata": {},
   "source": [
    "# 클래스 직접구현(잡다한 기능을 붙힐 수 있음. 가장 최신의 손은 초록 점으로)"
   ]
  },
  {
   "cell_type": "code",
   "execution_count": 16,
   "id": "8ab2c7e2",
   "metadata": {},
   "outputs": [],
   "source": [
    "import cv2\n",
    "import mediapipe as mp\n",
    "cap=cv2.VideoCapture(0)\n",
    "#클래스 직접 만들어서 써보기\n",
    "class handDetector():\n",
    "    def __init__(self,mode=False,maxHands=2,modelComplexity=1,detectionCon=0.5,trackCon=0.5):\n",
    "        self.mode=mode\n",
    "        self.maxHands=maxHands\n",
    "        self.modelComplexity=modelComplexity\n",
    "        self.detectionCon=detectionCon\n",
    "        self.tranCon=trackCon\n",
    "        self.mpHands=mp.solutions.hands\n",
    "        self.hands=self.mpHands.Hands(self.mode,self.maxHands,self.modelComplexity,self.detectionCon,self.tranCon)\n",
    "        self.mpDraw=mp.solutions.drawing_utils\n",
    "\n",
    "    def findHands(self,img,draw=True):\n",
    "        imgRGB=cv2.cvtColor(img,cv2.COLOR_BGR2RGB)\n",
    "        self.results=self.hands.process(imgRGB)\n",
    "        if self.results.multi_hand_landmarks:\n",
    "            for handLms in self.results.multi_hand_landmarks:\n",
    "                if draw:\n",
    "                    self.mpDraw.draw_landmarks(img,handLms,self.mpHands.HAND_CONNECTIONS)\n",
    "        return img\n",
    "    \n",
    "    def findPosition(self,img,handN=0,draw=True):\n",
    "        lmList=[]\n",
    "        if self.results.multi_hand_landmarks:\n",
    "            mpHands=self.results.multi_hand_landmarks[handN]\n",
    "            for id, lm in enumerate(mpHands.landmark):\n",
    "                h,w,c=img.shape\n",
    "                cx,cy=int(lm.x*w),int(lm.y*h)\n",
    "                lmList.append([id,cx,cy])#21개 점 위치 저장하기\n",
    "                if draw:\n",
    "                    cv2.circle(img,(cx,cy),10,(155,255,0),cv2.FILLED)\n",
    "        return lmList\n",
    "detector=handDetector()\n",
    "\n",
    "while True:\n",
    "    flag,img=cap.read()\n",
    "    img=cv2.flip(img,1)\n",
    "\n",
    "    img=detector.findHands(img)\n",
    "    lmList=detector.findPosition(img)\n",
    "    cv2.imshow('img',img)\n",
    "    if cv2.waitKey(1) & 0xFF==ord('q'):\n",
    "        break\n",
    "\n"
   ]
  }
 ],
 "metadata": {
  "kernelspec": {
   "display_name": "Python 3",
   "language": "python",
   "name": "python3"
  },
  "language_info": {
   "codemirror_mode": {
    "name": "ipython",
    "version": 3
   },
   "file_extension": ".py",
   "mimetype": "text/x-python",
   "name": "python",
   "nbconvert_exporter": "python",
   "pygments_lexer": "ipython3",
   "version": "3.11.3"
  }
 },
 "nbformat": 4,
 "nbformat_minor": 5
}
