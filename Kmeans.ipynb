{
 "cells": [
  {
   "cell_type": "markdown",
   "id": "2df45906",
   "metadata": {},
   "source": [
    "# 지도학습 KNN"
   ]
  },
  {
   "cell_type": "code",
   "execution_count": null,
   "id": "af83b368",
   "metadata": {},
   "outputs": [],
   "source": [
    "import math\n",
    "from collections import Counter\n",
    "data=[(7,1,'기린'),\n",
    "     (4,9,'하마'),\n",
    "     (9,7,'기린'),\n",
    "     (1,8,'하마'),\n",
    "     (7,6,'기린'),\n",
    "     (4,7,'하마'),\n",
    "     (6,4,'기린'),\n",
    "     (2,9,'하마'),\n",
    "     (3,6,'하마')]\n",
    "\n",
    "x=int(input(\"동물의 키는\"))\n",
    "y=int(input(\"동물의 몸무게는\"))\n",
    "k=int(input('K의 수는? 홀수로'))\n",
    "def distance_cul(x,y,a,b):\n",
    "     d=math.sqrt((x-a)**2+(y-b)**2)\n",
    "     return d\n",
    "def KNN(x,y,k):\n",
    "    distance=[]\n",
    "    for i in data:\n",
    "         d=distance_cul(x,y,i[0],i[1])\n",
    "         distance.append((d,i[2]))\n",
    "    # 오름차순으로 \n",
    "    distance.sort()\n",
    "    #최근접 k개\n",
    "    distance=distance[:k]\n",
    "    animals=[]\n",
    "    for i in distance:\n",
    "         animals.append(i[1])\n",
    "    x=Counter(animals).most_common(1)\n",
    "    #most_common은 리스트 안에 담아주니까\n",
    "    return x[0][0]\n",
    "\n",
    "print('당신이 입력한 데이터의 동물은 KNN알고리즘에 의해:',KNN(x,y,k))\n"
   ]
  },
  {
   "cell_type": "markdown",
   "id": "cf8dd238",
   "metadata": {},
   "source": [
    "# 라이브러리 KNN"
   ]
  },
  {
   "cell_type": "code",
   "execution_count": null,
   "id": "37f50408",
   "metadata": {},
   "outputs": [],
   "source": [
    "#아 나는 KNN 세부적인거 관심 없고 빠르게 빠르게 라이브러리로 하고 싶어! 상태일 때\n",
    "from sklearn.datasets import load_iris\n",
    "from sklearn.model_selection import train_test_split\n",
    "\n",
    "a=load_iris()\n",
    "x=a.data\n",
    "y=a.target\n",
    "\n",
    "x_train,x_test,y_train,y_test=train_test_split(x,y,test_size=0.2,random_state=123)\n",
    "\n",
    "#KNN알고리즘을 사이킷런에서 가져와서 빠르게 작업\n",
    "from sklearn.neighbors import KNeighborsClassifier\n",
    "from sklearn import metrics\n",
    "\n",
    "KNN=KNeighborsClassifier(n_neighbors=15)\n",
    "print(KNN)\n",
    "\n",
    "KNN.fit(x_train,y_train)\n",
    "#아까 나눈 테스트 세트로 테스트\n",
    "result=KNN.predict(x_test)\n",
    "#테스트 답안(예측)\n",
    "print(result)\n",
    "print(y_test)\n",
    "#정확도 측정\n",
    "accuracy=metrics.accuracy_score(y_test,result)\n",
    "print(accuracy*100,'의 정확도')"
   ]
  },
  {
   "cell_type": "code",
   "execution_count": null,
   "id": "7f47944a",
   "metadata": {},
   "outputs": [],
   "source": [
    "from sklearn.datasets import load_iris\n",
    "from sklearn.model_selection import train_test_split\n",
    "from sklearn.neighbors import KNeighborsClassifier\n",
    "from sklearn import metrics\n",
    "\n",
    "a=load_iris()\n",
    "x=a.data\n",
    "y=a.target\n",
    "\n",
    "x_train,x_test,y_train,y_test=train_test_split(x,y,test_size=0.2,random_state=123)\n",
    "\n",
    "KNN=KNeighborsClassifier(n_neighbors=10)\n",
    "KNN.fit(x_train,y_train)\n",
    "\n",
    "#데이터 안에 target_name이라는 이름으로 포함이 되어있긴 하지만 레이블이 3개 정도로 적기 때문에 딕셔너리를 만들어서 빠르게 작업했음\n",
    "flowers={0:'setosa',1:'versicolor',2:'virginica'}\n",
    "new=[[1,2,3,4],[3,4,3,6],[5,2,3,3],[5,5,4,2],[7,3,2,7]]\n",
    "result=KNN.predict(new)\n",
    "for i in range(len(new)):\n",
    "    print(f\"{i+1}번째 꽃은 {result[i+1]}\")"
   ]
  },
  {
   "cell_type": "markdown",
   "id": "8fbb8772",
   "metadata": {},
   "source": [
    "# 비지도학습 kmeans"
   ]
  },
  {
   "cell_type": "code",
   "execution_count": 9,
   "id": "f424a138",
   "metadata": {},
   "outputs": [
    {
     "name": "stdout",
     "output_type": "stream",
     "text": [
      "[71, 81] [11, 15]\n"
     ]
    }
   ],
   "source": [
    "#KNN정리\n",
    "#우리 실생활에서 KNN을 어디에 쓰면 좋을까?\n",
    "\n",
    "#Kmeans\n",
    "#비지도 학습\n",
    "#unsupervised learning\n",
    "#스스로 데이터를 군집화(클러스터링)\n",
    "\n",
    "import math\n",
    "import random\n",
    "import copy\n",
    "\n",
    "data=[[6,3],[11,15],[17,12],[24,10],[20,25],[22,30],[85,80],[71,81],[60,79],[56,52],[81,91],[80,81]]\n",
    "data2=copy.deepcopy(data)\n",
    "\n",
    "def euclidian(center,i):\n",
    "    x1,x2=center[0],i[0]\n",
    "    y1,y2=center[1],i[1]\n",
    "    return math.sqrt((x2-x1)**2+(y2-y1)**2)\n",
    "\n",
    "def get_distance(data,center):\n",
    "    result=[]\n",
    "    for point in data:\n",
    "        x=euclidian(center,point)\n",
    "        result.append(x)\n",
    "    return result\n",
    "\n",
    "def Kmeans(c1,c2):\n",
    "    #모든 점에 대한 자신과의 거리\n",
    "    dis1=get_distance(data,c1)\n",
    "    dis2=get_distance(data,c2)\n",
    "    return (dis1,dis2)\n",
    "\n",
    "\n",
    "random.shuffle(data2)\n",
    "center1,center2=data2[0],data2[1]\n",
    "centerDis1_origin,centerDis2_origin=Kmeans(center1,center2)\n",
    "\n",
    "isEnd=False\n",
    "while not isEnd:\n",
    "    random.shuffle(data2)\n",
    "    center1,center2=data2[0],data2[1]\n",
    "    centerDis1_current,centerDis2_current=Kmeans(center1,center2)\n",
    "\n",
    "    if len(centerDis1_origin)==len(centerDis1_current):\n",
    "        isSame=True\n",
    "        for i in range(len(centerDis1_origin)):\n",
    "            if centerDis1_origin[i]!=centerDis1_current[i]:\n",
    "                isSame=False\n",
    "                break\n",
    "    if isSame:\n",
    "        isEnd=True\n",
    "        print(center1,center2)"
   ]
  },
  {
   "cell_type": "markdown",
   "id": "dff5cd55",
   "metadata": {},
   "source": [
    "# 라이브러리를 활용한 Kmeans 구현"
   ]
  },
  {
   "cell_type": "code",
   "execution_count": 14,
   "id": "bf4789b0",
   "metadata": {},
   "outputs": [
    {
     "name": "stdout",
     "output_type": "stream",
     "text": [
      "[[16.66666667 15.83333333]\n",
      " [72.16666667 77.33333333]]\n"
     ]
    },
    {
     "data": {
      "image/png": "[encoded data removed]",
      "text/plain": [
       "<Figure size 640x480 with 1 Axes>"
      ]
     },
     "metadata": {},
     "output_type": "display_data"
    }
   ],
   "source": [
    "import math\n",
    "import random\n",
    "import copy\n",
    "import matplotlib.pyplot as plt\n",
    "import numpy as np\n",
    "from sklearn.cluster import KMeans\n",
    "\n",
    "X=np.array([[6,3],[11,15],[17,12],[24,10],[20,25],[22,30],[85,80],[71,81],[60,79],[56,52],[81,91],[80,81]])\n",
    "plt.scatter(X[:,0],X[:,1])\n",
    "#군집 두개 잡아라 => 랜덤하게 두 점 잡고 Kmeans해라\n",
    "Kmeans=KMeans(n_clusters=2)\n",
    "Kmeans.fit(X)\n",
    "print(Kmeans.cluster_centers_)\n",
    "plt.show()"
   ]
  },
  {
   "cell_type": "markdown",
   "id": "d11129c7",
   "metadata": {},
   "source": [
    "# kmeans 직접구현"
   ]
  },
  {
   "cell_type": "code",
   "execution_count": 29,
   "id": "ec4ad47d",
   "metadata": {},
   "outputs": [
    {
     "name": "stdout",
     "output_type": "stream",
     "text": [
      "[[6.0, 3.0], [21.0, 27.5], [14.0, 13.5], [24.0, 10.0], [72.16666666666667, 77.33333333333333]]\n"
     ]
    },
    {
     "data": {
      "image/png": "[encoded data removed]",
      "text/plain": [
       "<Figure size 640x480 with 1 Axes>"
      ]
     },
     "metadata": {},
     "output_type": "display_data"
    }
   ],
   "source": [
    "import math\n",
    "import copy,random\n",
    "import matplotlib.pyplot as plt\n",
    "from matplotlib import cm\n",
    "\n",
    "data=[[6,3],[11,15],[17,12],[24,10],[20,25],[22,30],[85,80],[71,81],[60,79],[56,52],[81,91],[80,81]]\n",
    "X=np.array([[6,3],[11,15],[17,12],[24,10],[20,25],[22,30],[85,80],[71,81],[60,79],[56,52],[81,91],[80,81]])\n",
    "\n",
    "def get_center(data):\n",
    "    sumX=0\n",
    "    sumY=0\n",
    "    for i in range(len(data)):\n",
    "        sumX+=data[i][0]\n",
    "        sumY+=data[i][1]\n",
    "    return [sumX/len(data),sumY/len(data)]\n",
    "\n",
    "def euc(center,i):\n",
    "    x1,x2=center[0],i[0]\n",
    "    y1,y2=center[1],i[1]\n",
    "    return math.sqrt((x2-x1)**2+(y2-y1)**2)\n",
    "\n",
    "def get_distance(center):\n",
    "    result=[]\n",
    "    for i in data:\n",
    "        x=euc(center,i)\n",
    "        result.append(x)\n",
    "    return result\n",
    "clus=[None for i in range(len(X))]\n",
    "k=5\n",
    "center=list(X[:k])\n",
    "before=[]\n",
    "\n",
    "while before!=clus:\n",
    "    #깊은 복사 copy 말고도 이렇게도 가능\n",
    "    before=list(clus)\n",
    "    distance=[]\n",
    "    for i in range(len(center)): #k=2니까 2번\n",
    "        #센터에서 모든 점들까지의 거리를 구함\n",
    "        distance.append(get_distance(center[i]))\n",
    "    for i in range(len(data)):\n",
    "        minvalue=float('inf')\n",
    "        minindex=None\n",
    "        for j in range(len(center)):\n",
    "            if distance[j][i]<minvalue:\n",
    "                #각 점당 센터와의 거리를 비교해 가까운 센터로 라벨링해줌\n",
    "                minvalue=distance[j][i]\n",
    "                minindex=j\n",
    "        clus[i]=minindex\n",
    "\n",
    "    #반복해서 평균좌표로 센터 재지정\n",
    "    for i in range(len(center)): #할당된 그룹의 좌표의 평균 구해서 기준점을 만든다\n",
    "        a=[]\n",
    "        for j in range(len(X)):\n",
    "            if clus[j]==i:\n",
    "                a.append(data[j])\n",
    "        center[i]=get_center(a)\n",
    "print(center)\n",
    "colors = [cm.hsv(i / k) for i in range(k)]\n",
    "for i in range(k):\n",
    "    x=[]\n",
    "    y=[]\n",
    "    for j in range(len(data)):\n",
    "        if clus[j]==i:\n",
    "            x.append(data[j][0])\n",
    "            y.append(data[j][1])\n",
    "    plt.scatter(x,y,color=colors[i])\n",
    "plt.show()"
   ]
  },
  {
   "cell_type": "code",
   "execution_count": null,
   "id": "3e6aac99",
   "metadata": {},
   "outputs": [
    {
     "ename": "TypeError",
     "evalue": "'KMeans' object is not callable",
     "output_type": "error",
     "traceback": [
      "\u001b[31m---------------------------------------------------------------------------\u001b[39m",
      "\u001b[31mTypeError\u001b[39m                                 Traceback (most recent call last)",
      "\u001b[36mCell\u001b[39m\u001b[36m \u001b[39m\u001b[32mIn[30]\u001b[39m\u001b[32m, line 50\u001b[39m\n\u001b[32m     47\u001b[39m     \u001b[38;5;28;01melse\u001b[39;00m:\n\u001b[32m     48\u001b[39m         \u001b[38;5;28;01mreturn\u001b[39;00m KMEANS(a,b)\n\u001b[32m---> \u001b[39m\u001b[32m50\u001b[39m \u001b[38;5;28mprint\u001b[39m(\u001b[43mKmeans\u001b[49m\u001b[43m(\u001b[49m\u001b[43mcenter1\u001b[49m\u001b[43m,\u001b[49m\u001b[43mcenter2\u001b[49m\u001b[43m)\u001b[49m)\n",
      "\u001b[31mTypeError\u001b[39m: 'KMeans' object is not callable"
     ]
    }
   ],
   "source": [
    "import math\n",
    "import copy,random\n",
    "import matplotlib.pyplot as plt\n",
    "from matplotlib import cm\n",
    "\n",
    "data=[[6,3],[11,15],[17,12],[24,10],[20,25],[22,30],[85,80],[71,81],[60,79],[56,52],[81,91],[80,81]]\n",
    "k=2\n",
    "point=copy.deepcopy(data)\n",
    "random.shuffle(point)\n",
    "\n",
    "center1=point[0]\n",
    "center2=point[1]\n",
    "\n",
    "def euc_distance(center,i):\n",
    "    x1,x2=center[0],i[0]\n",
    "    y1,y2=center[1],i[1]\n",
    "    return math.sqrt((x2-x1)**2+(y2-y1)**2)\n",
    "\n",
    "def get_distance(data,center):\n",
    "    result=[]\n",
    "    for i in data:\n",
    "        x=euc_distance(center,i)\n",
    "        result.append(x)\n",
    "    return result\n",
    "\n",
    "def di(clist):#그룹의 중심\n",
    "    x,y=0,0\n",
    "    for i in clist:\n",
    "        x+=i[0]\n",
    "        y+=i[1]\n",
    "    return x/len(clist),y/len(clist)\n",
    "def KMEANS(c1,c2):\n",
    "    c1_list=[]\n",
    "    c2_list=[]\n",
    "    dis1=get_distance(data,c1)\n",
    "    dis2=get_distance(data,c2)\n",
    "\n",
    "    for i in range(len(dis1)):\n",
    "        if dis1[i]<dis2[i]:\n",
    "            c1_list.append(data[i])\n",
    "        else:\n",
    "            c2_list.append(data[i])\n",
    "    a=di(c1_list)\n",
    "    b=di(c2_list)\n",
    "    if c1==a and c2==b:\n",
    "        return c1,c2\n",
    "    else:\n",
    "        return KMEANS(a,b)\n",
    "\n",
    "print(KMEANS(center1,center2))"
   ]
  }
 ],
 "metadata": {
  "kernelspec": {
   "display_name": "Python 3",
   "language": "python",
   "name": "python3"
  },
  "language_info": {
   "codemirror_mode": {
    "name": "ipython",
    "version": 3
   },
   "file_extension": ".py",
   "mimetype": "text/x-python",
   "name": "python",
   "nbconvert_exporter": "python",
   "pygments_lexer": "ipython3",
   "version": "3.13.5"
  }
 },
 "nbformat": 4,
 "nbformat_minor": 5
}
